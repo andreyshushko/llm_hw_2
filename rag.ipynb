{
 "cells": [
  {
   "cell_type": "code",
   "execution_count": 16,
   "id": "bd67ed7f",
   "metadata": {},
   "outputs": [],
   "source": [
    "import os\n",
    "import configparser\n",
    "from langchain_community.document_loaders import TextLoader, DirectoryLoader\n",
    "from langchain_mistralai.chat_models import ChatMistralAI\n",
    "from langchain_mistralai.embeddings import MistralAIEmbeddings\n",
    "from langchain_community.vectorstores import FAISS\n",
    "from langchain.text_splitter import RecursiveCharacterTextSplitter\n",
    "from langchain.chains.combine_documents import create_stuff_documents_chain\n",
    "from langchain_core.prompts import ChatPromptTemplate\n",
    "from langchain.chains import create_retrieval_chain\n",
    "from IPython.display import display, Latex\n",
    "from warnings import filterwarnings\n",
    "filterwarnings('ignore')"
   ]
  },
  {
   "cell_type": "code",
   "execution_count": 13,
   "id": "7c8f89d3",
   "metadata": {},
   "outputs": [],
   "source": [
    "API_KEY = 'key'"
   ]
  },
  {
   "cell_type": "code",
   "execution_count": 14,
   "id": "6c5cfebe",
   "metadata": {},
   "outputs": [
    {
     "name": "stderr",
     "output_type": "stream",
     "text": [
      "/home/andrey/miniconda3/lib/python3.12/site-packages/langchain_mistralai/embeddings.py:180: UserWarning: Could not download mistral tokenizer from Huggingface for calculating batch sizes. Set a Huggingface token via the HF_TOKEN environment variable to download the real tokenizer. Falling back to a dummy tokenizer that uses `len()`.\n",
      "  warnings.warn(\n"
     ]
    }
   ],
   "source": [
    "# Define the embedding model\n",
    "embeddings = MistralAIEmbeddings(model=\"mistral-embed\", mistral_api_key=API_KEY)"
   ]
  },
  {
   "cell_type": "code",
   "execution_count": 34,
   "id": "da7620f2",
   "metadata": {},
   "outputs": [
    {
     "name": "stderr",
     "output_type": "stream",
     "text": [
      "An error occurred with MistralAI: Client error '429 Too Many Requests' for url 'https://api.mistral.ai/v1/embeddings'\n",
      "For more information check: https://developer.mozilla.org/en-US/docs/Web/HTTP/Status/429\n",
      "An error occurred with MistralAI: Client error '429 Too Many Requests' for url 'https://api.mistral.ai/v1/embeddings'\n",
      "For more information check: https://developer.mozilla.org/en-US/docs/Web/HTTP/Status/429\n"
     ]
    },
    {
     "name": "stdout",
     "output_type": "stream",
     "text": [
      "7\n",
      "8\n"
     ]
    },
    {
     "name": "stderr",
     "output_type": "stream",
     "text": [
      "An error occurred with MistralAI: Client error '429 Too Many Requests' for url 'https://api.mistral.ai/v1/embeddings'\n",
      "For more information check: https://developer.mozilla.org/en-US/docs/Web/HTTP/Status/429\n"
     ]
    },
    {
     "name": "stdout",
     "output_type": "stream",
     "text": [
      "9\n"
     ]
    }
   ],
   "source": [
    "for i in range(1, 12):\n",
    "    loader = TextLoader(f'kons/{i}.tex')\n",
    "    docs = loader.load() \n",
    "    text_splitter = RecursiveCharacterTextSplitter()\n",
    "    documents = text_splitter.split_documents(docs)\n",
    "\n",
    "    try:\n",
    "        if not os.path.exists(f'vesctors/faiss_index_{i}'):\n",
    "            vector = FAISS.from_documents(documents, embeddings)\n",
    "            vector.save_local(f\"vesctors/faiss_index_{i}\")\n",
    "    except:\n",
    "        print(i)\n",
    "\n",
    "\n",
    "vector = FAISS.load_local(\"vesctors/faiss_index_1\", embeddings,  allow_dangerous_deserialization=True)\n",
    "\n",
    "for i in range(2, 12):\n",
    "    tmp = FAISS.load_local(f\"vesctors/faiss_index_{i}\", embeddings,  allow_dangerous_deserialization=True)\n",
    "    vector.merge_from(tmp)\n",
    "vector.save_local(f\"vesctors\")"
   ]
  },
  {
   "cell_type": "code",
   "execution_count": 35,
   "id": "89c8e3b9",
   "metadata": {},
   "outputs": [],
   "source": [
    "vector = FAISS.load_local(\"vesctors\", embeddings,  allow_dangerous_deserialization=True)"
   ]
  },
  {
   "cell_type": "code",
   "execution_count": 36,
   "id": "4bcca101",
   "metadata": {},
   "outputs": [],
   "source": [
    "retriever = vector.as_retriever()"
   ]
  },
  {
   "cell_type": "code",
   "execution_count": 37,
   "id": "6f74e81f",
   "metadata": {},
   "outputs": [],
   "source": [
    "model = ChatMistralAI(mistral_api_key=API_KEY)"
   ]
  },
  {
   "cell_type": "code",
   "execution_count": 38,
   "id": "fa971b4a",
   "metadata": {},
   "outputs": [],
   "source": [
    "prompt = ChatPromptTemplate.from_template(\"\"\"Ответь на следующий вопрос основываясь только на предоставленном контексте:\n",
    "\n",
    "\n",
    "<контекст>\n",
    "{context}\n",
    "</контекст>\n",
    "\n",
    "Вопрос: {input}\"\"\")"
   ]
  },
  {
   "cell_type": "markdown",
   "id": "07d3472f",
   "metadata": {},
   "source": [
    "# Работа RAG на основе консультаций"
   ]
  },
  {
   "cell_type": "code",
   "execution_count": 43,
   "id": "7b649211",
   "metadata": {},
   "outputs": [
    {
     "data": {
      "text/latex": [
       "Чтобы доказать утверждение без непрерывной дифференцируемости, можно использовать лемму о пределе суммы и лемму о пределе произведения. В данном случае, нужно доказать, что предел функциональной последовательности $f_n$ существует и равен $g$ на $[a, b]$, и что $g' = \\varphi$ на $[a, b]$. Это можно сделать, воспользовавшись леммой о пределе суммы и леммой о пределе произведения для последовательностей $f_n(x)$ и $f_n'(x)$.\n",
       "\n",
       "Признаки Дирихле и Абеля необходимо знать в формулировках:\n",
       "\n",
       "* Признак Дирихле: если последовательность функций $\\{f_n(x)\\}$ равномерно сходится на $[a, b]$ к функции $f(x)$, и $\\{g_n(x)\\}$ монотонна, равномерно ограничена на $[a, b]$, и $\\lim\\limits_{n \\to \\infty} g_n(x) = g(x)$ на $[a, b]$, то последовательность интегралов $\\int\\limits_a^b f_n(x)g_n(x)dx$ сходится к интегралу $\\int\\limits_a^b f(x)g(x)dx$.\n",
       "* Признак Абеля: если последовательность функций $\\{f_n(x)\\}$ равномерно сходится на $[a, b]$ к функции $f(x)$, и $\\{g_n(x)\\}$ монотонна, равномерно ограничена на $[a, b]$, и $\\lim\\limits_{x \\to b-} g_n(x)$ существует на $[a, b]$, то последовательность сумм $\\sum\\limits_{n = 1}^{\\infty} f_n(x)g_n(x)$ сходится на $[a, b]$ к сумме $\\sum\\limits_{n = 1}^{\\infty} f_n(x) \\lim\\limits_{x \\to b-} g_n(x)$.\n",
       "\n",
       "Пример функции, которая имеет радиус сходимости бесконечность, но не раскладывается в ряд Тейлора, можно найти среди функций, имеющих особенность в точке 0. Например, функция $\\exp(-1/x^2)$ имеет бесконечный радиус сходимости, но не может быть разложена в ряд Тейлора, поскольку у неё есть особенность в точке 0.\n",
       "\n",
       "Для доказательства формулы Остроградского-Гаусса, можно воспользоваться леммой о срезке:\n",
       "\n",
       "* Лемма о срезке: пусть $w$ -- векторное поле, носитель которого компактен, и $G$ -- объем в $\\mathbb{R}^3$, ограниченный поверхностью $S = \\partial G$. Тогда $\\iiint\\limits_G \\text{div}(w) dV = \\oiint\\limits_S w \\cdot n dS$.\n",
       "\n",
       "Доказательство этой леммы основывается на принципе Гаусса-Остроградского и теореме о среднем. Затем, можно использовать эту лемму для доказательства формулы Остроградского-Гаусса.\n",
       "\n",
       "Если $\\text{rot}(w) = 0$ и $\\text{div}(w) = 0$, то векторное поле $w$ может быть представлено в виде градиента некоторой функции $\\varphi$, причем $\\Delta \\varphi = 0$. Это можно доказать, воспользовавшись теоремой о том, что циркуляция векторного поля по любому замкнутому контуру равна нулю.\n",
       "\n",
       "Без теоремы об ограниченной сходимости Лебесгуя, доказательство непрерывности преобразования Фурье абсолютно интегрируемой функции может быть осложнено. Можно воспользоваться другими теоремами, например, теоремой Леви о монотонной сходимости или теоремой о сходимости почти всюду."
      ],
      "text/plain": [
       "<IPython.core.display.Latex object>"
      ]
     },
     "metadata": {},
     "output_type": "display_data"
    }
   ],
   "source": [
    "# Create a retrieval chain to answer questions\n",
    "document_chain = create_stuff_documents_chain(model, prompt)\n",
    "retrieval_chain = create_retrieval_chain(retriever, document_chain)\n",
    "response = retrieval_chain.invoke({\"input\": '''Равномерная сходимость функциональных последовательностей\n",
    "и рядов. Непрерывность, интегрируемость и дифференцируемость\n",
    "суммы функционального ряда.'''})\n",
    "display(Latex(response['answer']))"
   ]
  },
  {
   "cell_type": "markdown",
   "id": "75a6d092",
   "metadata": {},
   "source": [
    "# Работа обычной модели"
   ]
  },
  {
   "cell_type": "code",
   "execution_count": 45,
   "id": "8afbd515",
   "metadata": {},
   "outputs": [
    {
     "data": {
      "text/latex": [
       "Равномерная сходимость функциональных последовательностей и рядов\n",
       "------------------------------------------------------------------\n",
       "\n",
       "Равномерная сходимость функциональных последовательностей и рядов аналогична понятию равномерной сходимости рядов числовых функций.\n",
       "\n",
       "### Определение (равномерная сходимость функциональной последовательности)\n",
       "\n",
       "Пусть $\\{f\\_n\\}\\_{n=1}^{\\infty}$ – последовательность функций, определенных на множестве $E$. Говорят, что последовательность $\\{f\\_n\\}\\_{n=1}^{\\infty}$ равномерно сходится на $E$ к функции $f$, если для любого $\\varepsilon > 0$ существует такое натуральное число $N$, что для всех $n \\geq N$ и для всех $x \\in E$ выполняется неравенство $|f\\_n(x) - f(x)| < \\varepsilon$.\n",
       "\n",
       "### Определение (равномерная сходимость функционального ряда)\n",
       "\n",
       "Пусть $\\{f\\_n\\}\\_{n=1}^{\\infty}$ – последовательность функций, определенных на множестве $E$. Рассмотрим ряд $\\sum\\_{n=1}^{\\infty} f\\_n(x)$. Говорят, что ряд $\\sum\\_{n=1}^{\\infty} f\\_n(x)$ равномерно сходится на $E$ к функции $S$, если последовательность его частичных сумм $\\{S\\_n\\}\\_{n=1}^{\\infty}$, где $S\\_n(x) = \\sum\\_{k=1}^{n} f\\_k(x)$, равномерно сходится на $E$ к функции $S$.\n",
       "\n",
       "### Замечание\n",
       "\n",
       "Если ряд $\\sum\\_{n=1}^{\\infty} f\\_n(x)$ равномерно сходится на $E$ к функции $S$, то сумма ряда $S$ также определена на $E$ и является непрерывной функцией на $E$, если все функции $f\\_n$ непрерывны на $E$.\n",
       "\n",
       "Непрерывность, интегрируемость и дифференцируемость суммы функционального ряда\n",
       "---------------------------------------------------------------------------\n",
       "\n",
       "### Теорема (свойства суммы функционального ряда)\n",
       "\n",
       "Пусть ряд $\\sum\\_{n=1}^{\\infty} f\\_n(x)$ равномерно сходится на множестве $E$ к функции $S$. Тогда:\n",
       "\n",
       "1. Если все функции $f\\_n$ непрерывны на $E$, то сумма ряда $S$ также непрерывна на $E$.\n",
       "2. Если все функции $f\\_n$ интегрируемы по Риману на $E$, то сумма ряда $S$ также интегрируема по Риману на $E$, и для интеграла справедлива формула: $\\int\\_{E} S(x) dx = \\sum\\_{n=1}^{\\infty} \\int\\_{E} f\\_n(x) dx$.\n",
       "3. Если все функции $f\\_n$ дифференцируемы на $E$ и их derivatives $\\{f'\\_n\\}\\_{n=1}^{\\infty}$ также равномерно сходятся на $E$ к функции $g$, то сумма ряда $S$ дифференцируема на $E$, и для ее производной справедлива формула: $S'(x) = \\sum\\_{n=1}^{\\infty} f'\\_n(x)$ для всех $x \\in E$.\n",
       "\n",
       "### Доказательство\n",
       "\n",
       "Доказательство этой теоремы основано на свойствах равномерно сходящихся функциональных последовательностей и рядов и теореме о дифференцировании под знаком суммы.\n",
       "\n",
       "#### Часть 1 (непрерывность суммы ряда)\n",
       "\n",
       "Пусть $\\varepsilon > 0$ и $\\{f\\_n\\}\\_{n=1}^{\\infty}$ – последовательность непрерывных функций, равномерно сходящаяся на $E$ к функции $S$. Тогда для любого $x \\in E$ и достаточно большого $n$ выполняется неравенство $|f\\_n(x) - S(x)| < \\varepsilon/2$. Так как $f\\_n$ непрерывна на $E$, то для любого $x \\in E$ и достаточно малого $\\delta > 0$ выполняется неравенство $|f\\_n(x + \\delta) - f\\_n(x)| < \\varepsilon/2$. Тогда, используя неравенство треугольника, получим:\n",
       "$$\n",
       "|S(x + \\delta) - S(x)| \\leq |S(x + \\delta) - f\\_n(x + \\delta)| + |f\\_n(x + \\delta) - f\\_n(x)| + |f\\_n(x) - S(x)| < \\varepsilon.\n",
       "$$\n",
       "Таким образом, сумма ряда $S$ непрерывна на $E$.\n",
       "\n",
       "#### Часть 2 (интегрируемость суммы ряда)\n",
       "\n",
       "Пусть $\\{f\\_n\\}\\_{n=1}^{\\infty}$ – последовательность интегрируемых по Риману функций, равномерно сходящаяся на $E$ к функции $S$. Тогда для любого $x \\in E$ и достаточно большого $n$ выполняется неравенство $|f\\_n(x) - S(x)| < \\varepsilon/(|E| + 1)$, где $|E|$ – мера множества $E$. Тогда, используя неравенство треугольника, получим:\n",
       "$$\n",
       "\\left|\\int\\_{E} S(x) dx - \\sum\\_{k=1}^{n} \\int\\_{E} f\\_k(x) dx\\right| = \\left|\\int\\_{E} (S(x) - f\\_n(x)) dx\\right| \\leq \\int\\_{E} |S(x) - f\\_n(x)| dx < \\varepsilon.\n",
       "$$\n",
       "Таким образом, сумма ряда $S$ интегрируема по Риману на $E$, и для интеграла справедлива формула: $\\int\\_{E} S(x) dx = \\sum\\_{n=1}^{\\infty} \\int\\_{E} f\\_n(x) dx$.\n",
       "\n",
       "#### Часть 3 (дифференцируемость суммы ряда)\n",
       "\n",
       "Пусть $\\{f\\_n\\}\\_{n=1}^{\\infty}$ – последовательность дифференцируемых функций, равномерно сходящаяся на $E$ к функции $S$, и $\\{f'\\_n\\}\\_{n=1}^{\\infty}$ – последовательность их производных, также равномерно сходящаяся на $E$ к функции $g$. Тогда, используя теорему о дифференцировании под знаком суммы, получим:\n",
       "$$\n",
       "S'(x) = \\lim\\_{h \\to 0} \\frac{S(x + h) - S(x)}{h} = \\lim\\_{h \\to 0} \\sum\\_{n=1}^{\\infty} \\frac{f\\_n(x + h) - f\\_n(x)}{h} = \\sum\\_{n=1}^{\\infty} \\lim\\_{h \\to 0} \\frac{f\\_n(x + h) - f\\_n(x)}{h} = \\sum\\_{n=1}^{\\infty} f'\\_n(x)\n",
       "$$\n",
       "для всех $x \\in E$. Таким образом, сумма ряда $S$ дифференцируема на $E$, и для ее производной справедлива формула: $S'(x) = \\sum\\_{n=1}^{\\infty} f'\\_n(x)$ для всех $x \\in E$."
      ],
      "text/plain": [
       "<IPython.core.display.Latex object>"
      ]
     },
     "metadata": {},
     "output_type": "display_data"
    }
   ],
   "source": [
    "from langchain_core.messages import HumanMessage\n",
    "messages = [HumanMessage(content='''Равномерная сходимость функциональных последовательностей\n",
    "и рядов. Непрерывность, интегрируемость и дифференцируемость\n",
    "суммы функционального ряда.''')]\n",
    "display(Latex(model.invoke(messages).content))"
   ]
  },
  {
   "cell_type": "code",
   "execution_count": null,
   "id": "ab29d9a8-a768-46bd-a04b-a346943b811a",
   "metadata": {},
   "outputs": [],
   "source": []
  }
 ],
 "metadata": {
  "kernelspec": {
   "display_name": "Python 3 (ipykernel)",
   "language": "python",
   "name": "python3"
  },
  "language_info": {
   "codemirror_mode": {
    "name": "ipython",
    "version": 3
   },
   "file_extension": ".py",
   "mimetype": "text/x-python",
   "name": "python",
   "nbconvert_exporter": "python",
   "pygments_lexer": "ipython3",
   "version": "3.12.4"
  }
 },
 "nbformat": 4,
 "nbformat_minor": 5
}
